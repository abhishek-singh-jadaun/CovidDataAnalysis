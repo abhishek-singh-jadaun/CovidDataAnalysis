{
 "cells": [
  {
   "cell_type": "markdown",
   "metadata": {},
   "source": [
    "# Python Basics: A Hands-On Guide\n",
    "\n",
    "Welcome to your first Python notebook! This document is designed to be a hands-on guide to help you master the core fundamentals of the Python programming language. We'll cover variables, data structures, control flow, functions, and error handling.\n",
    "\n",
    "You can run each code cell individually to see the output.\n",
    "\n",
    "***\n",
    "\n",
    "## Step 1: Core Python Syntax and Data Structures\n",
    "\n",
    "### Variables and Data Types\n",
    "\n",
    "Python has several built-in data types. The most common ones are:\n",
    "* **Integers (`int`)**: Whole numbers like $10$, $-5$, $0$.\n",
    "* **Floats (`float`)**: Numbers with a decimal point like $3.14$, $-0.5$.\n",
    "* **Strings (`str`)**: Sequences of characters, enclosed in single or double quotes, like \"Hello\" or 'world'.\n",
    "* **Booleans (`bool`)**: Represents one of two values: `True` or `False`.\n",
    "\n",
    "Let's create some variables and check their types.\n"
   ]
  },
  {
   "cell_type": "code",
   "execution_count": null,
   "metadata": {},
   "outputs": [],
   "source": [
    "# Create variables of different types\n",
    "my_int = 100\n",
    "my_float = 9.99\n",
    "my_string = \"Python is powerful\"\n",
    "my_bool = True\n",
    "\n",
    "# Print the value and type of each variable\n",
    "print(f\"Value: {my_int}, Type: {type(my_int)}\")\n",
    "print(f\"Value: {my_float}, Type: {type(my_float)}\")\n",
    "print(f\"Value: '{my_string}', Type: {type(my_string)}\")\n",
    "print(f\"Value: {my_bool}, Type: {type(my_bool)}\")"
   ]
  },
  {
   "cell_type": "markdown",
   "metadata": {},
   "source": [
    "### Collections\n",
    "\n",
    "Collections are data structures that store multiple values. The main types are:\n",
    "* **Lists (`list`)**: Ordered, mutable, and can contain duplicate items. `[]`\n",
    "* **Tuples (`tuple`)**: Ordered, **immutable**, and can contain duplicate items. `()`\n",
    "* **Dictionaries (`dict`)**: Unordered (as of Python 3.7, insertion-ordered), mutable, and store key-value pairs. `{}`\n",
    "* **Sets (`set`)**: Unordered, mutable, and do not allow duplicate items. `{}`\n"
   ]
  },
  {
   "cell_type": "code",
   "execution_count": null,
   "metadata": {},
   "outputs": [],
   "source": [
    "# Create collections\n",
    "my_list = [10, 20, 30, 20, \"apple\"]\n",
    "my_tuple = (1, \"two\", 3.0)\n",
    "my_dict = {\"name\": \"Charlie\", \"age\": 28, \"city\": \"London\"}\n",
    "my_set = {1, 2, 3, 2, 1, 4}\n",
    "\n",
    "# Print the collections\n",
    "print(f\"List: {my_list}\")\n",
    "print(f\"Tuple: {my_tuple}\")\n",
    "print(f\"Dictionary: {my_dict}\")\n",
    "print(f\"Set (duplicates removed): {my_set}\")"
   ]
  },
  {
   "cell_type": "markdown",
   "metadata": {},
   "source": [
    "### Operations: Indexing, Slicing, and More\n",
    "\n",
    "You can access and manipulate elements in collections using a variety of operations.\n"
   ]
  },
  {
   "cell_type": "code",
   "execution_count": null,
   "metadata": {},
   "outputs": [],
   "source": [
    "my_list = ['a', 'b', 'c', 'd', 'e']\n",
    "my_string = \"Hello, world!\"\n",
    "my_dict = {\"name\": \"Dave\", \"id\": 101}\n",
    "\n",
    "# Indexing (accessing a single element)\n",
    "print(f\"First item in list: {my_list[0]}\")\n",
    "print(f\"Last item in string: {my_string[-1]}\")\n",
    "\n",
    "# Slicing (getting a subset)\n",
    "print(f\"Slice of list: {my_list[1:4]}\") # From index 1 up to (but not including) 4\n",
    "print(f\"Slice of string: {my_string[7:]}\") # From index 7 to the end\n",
    "\n",
    "# Concatenation (joining)\n",
    "new_list = my_list + [1, 2]\n",
    "print(f\"Concatenated list: {new_list}\")\n",
    "\n",
    "# Membership Testing (checking if an item exists)\n",
    "print(f\"'c' is in my_list: {'c' in my_list}\")\n",
    "print(f\"'age' key is in my_dict: {'age' in my_dict}\")"
   ]
  },
  {
   "cell_type": "markdown",
   "metadata": {},
   "source": [
    "### Exercise: Mutable vs. Immutable Types\n",
    "\n",
    "**Instructions:**\n",
    "\n",
    "1. Add the number `50` to the end of the `my_mutable_list`.\n",
    "\n",
    "2. Change the first character of the `my_immutable_string` to `'C'`. What happens?\n"
   ]
  },
  {
   "cell_type": "code",
   "execution_count": null,
   "metadata": {},
   "outputs": [],
   "source": [
    "# Mutable Type: List\n",
    "my_mutable_list = [10, 20, 30]\n",
    "\n",
    "# Immutable Type: String\n",
    "my_immutable_string = \"hello\"\n",
    "\n",
    "# Your code here\n",
    "my_mutable_list.append(50)\n",
    "\n",
    "# Try to modify the immutable string (it will raise a TypeError!)\n",
    "# my_immutable_string[0] = 'C'\n",
    "\n",
    "print(f\"Modified List: {my_mutable_list}\")\n",
    "print(\"Trying to modify the string will result in a TypeError because strings are immutable.\")"
   ]
  },
  {
   "cell_type": "markdown",
   "metadata": {},
   "source": [
    "***\n",
    "\n",
    "## Step 2: Control Flow Statements\n",
    "\n",
    "Control flow statements determine the order in which code is executed.\n",
    "\n",
    "### Conditional Statements (`if`, `elif`, `else`)\n"
   ]
  },
  {
   "cell_type": "code",
   "execution_count": null,
   "metadata": {},
   "outputs": [],
   "source": [
    "# Check if a number is positive, negative, or zero\n",
    "number = -7\n",
    "\n",
    "if number > 0:\n",
    "    print(\"The number is positive.\")\n",
    "elif number < 0:\n",
    "    print(\"The number is negative.\")\n",
    "else:\n",
    "    print(\"The number is zero.\")"
   ]
  },
  {
   "cell_type": "markdown",
   "metadata": {},
   "source": [
    "### Loops (`for`, `while`)\n"
   ]
  },
  {
   "cell_type": "code",
   "execution_count": null,
   "metadata": {},
   "outputs": [],
   "source": [
    "# Using a for loop to iterate over a list\n",
    "fruits = [\"apple\", \"banana\", \"cherry\"]\n",
    "for fruit in fruits:\n",
    "    print(f\"I like {fruit}.\")\n",
    "\n",
    "# Using a while loop to count up to a number\n",
    "count = 0\n",
    "while count < 5:\n",
    "    print(count)\n",
    "    count += 1"
   ]
  },
  {
   "cell_type": "markdown",
   "metadata": {},
   "source": [
    "### List and Dictionary Comprehensions\n",
    "\n",
    "Comprehensions offer a compact way to create new collections.\n"
   ]
  },
  {
   "cell_type": "code",
   "execution_count": null,
   "metadata": {},
   "outputs": [],
   "source": [
    "# Create a list of squares using a list comprehension\n",
    "squares = [x**2 for x in range(1, 6)]\n",
    "print(f\"List of squares: {squares}\")\n",
    "\n",
    "# Create a dictionary of word lengths\n",
    "words = [\"alpha\", \"bravo\", \"charlie\"]\n",
    "word_lengths = {word: len(word) for word in words}\n",
    "print(f\"Dictionary of word lengths: {word_lengths}\")"
   ]
  },
  {
   "cell_type": "markdown",
   "metadata": {},
   "source": [
    "***\n",
    "\n",
    "## Step 3: Functions and Modular Code\n",
    "\n",
    "Functions let you write reusable blocks of code.\n"
   ]
  },
  {
   "cell_type": "code",
   "execution_count": null,
   "metadata": {},
   "outputs": [],
   "source": [
    "def calculate_area(length: float, width: float) -> float:\n",
    "    \"\"\"\n",
    "    Calculates the area of a rectangle.\n",
    "    \n",
    "    Args:\n",
    "        length: The length of the rectangle.\n",
    "        width: The width of the rectangle.\n",
    "        \n",
    "    Returns:\n",
    "        The area of the rectangle.\n",
    "    \"\"\"\n",
    "    return length * width\n",
    "\n",
    "# Call the function\n",
    "area = calculate_area(10, 5)\n",
    "print(f\"The area of a 10x5 rectangle is: {area}\")\n",
    "\n",
    "# You can get the docstring using help()\n",
    "help(calculate_area)"
   ]
  },
  {
   "cell_type": "markdown",
   "metadata": {},
   "source": [
    "***\n",
    "\n",
    "## Step 4: Error Handling\n",
    "\n",
    "Error handling prevents your program from crashing when something goes wrong.\n",
    "\n",
    "### `try`, `except`, `else`, `finally`\n"
   ]
  },
  {
   "cell_type": "code",
   "execution_count": null,
   "metadata": {},
   "outputs": [],
   "source": [
    "def divide_numbers(a, b):\n",
    "    try:\n",
    "        result = a / b\n",
    "    except ZeroDivisionError:\n",
    "        print(\"Error: You can't divide by zero!\")\n",
    "    except TypeError:\n",
    "        print(\"Error: Please provide numbers as input.\")\n",
    "    else:\n",
    "        print(f\"The result is: {result}\")\n",
    "    finally:\n",
    "        print(\"This block always runs, cleanup complete.\")\n",
    "\n",
    "# Demonstrate success\n",
    "divide_numbers(10, 2)\n",
    "print(\"-\" * 20)\n",
    "\n",
    "# Demonstrate a ZeroDivisionError\n",
    "divide_numbers(10, 0)\n",
    "print(\"-\" * 20)\n",
    "\n",
    "# Demonstrate a TypeError\n",
    "divide_numbers(10, \"five\")"
   ]
  }
 ],
 "metadata": {
  "kernelspec": {
   "display_name": "Python 3",
   "language": "python",
   "name": "python3"
  },
  "language_info": {
   "codemirror_mode": {
    "name": "ipython",
    "version": 3
   },
   "file_extension": ".py",
   "mimetype": "text/x-python",
   "name": "python",
   "nbconvert_exporter": "python",
   "pygments_lexer": "ipython3",
   "version": "3.10.12"
  }
 },
 "nbformat": 4,
 "nbformat_minor": 4
}

