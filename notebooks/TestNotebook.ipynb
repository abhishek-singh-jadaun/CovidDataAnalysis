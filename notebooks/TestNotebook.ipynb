{
 "cells": [
  {
   "cell_type": "code",
   "execution_count": null,
   "id": "44db11cb",
   "metadata": {
    "vscode": {
     "languageId": "plaintext"
    }
   },
   "outputs": [],
   "source": [
    "import numpy as np\n",
    "import pandas as pd\n"
   ]
  },
  {
   "cell_type": "code",
   "execution_count": null,
   "id": "1d61893b",
   "metadata": {
    "vscode": {
     "languageId": "plaintext"
    }
   },
   "outputs": [],
   "source": [
    "# Variables and Data Types\n",
    "my_integer = 42\n",
    "my_float = 3.14159265\n",
    "my_string = \"Hello, Python!\"\n",
    "my_boolean = False\n",
    "\n",
    "# Basic Operations\n",
    "print(f\"Integer: {my_integer}, Type: {type(my_integer)}\")\n",
    "print(f\"Float: {my_float}, Type: {type(my_float)}\")\n",
    "print(f\"String: {my_string}, Type: {type(my_string)}\")\n",
    "print(f\"Boolean: {my_boolean}, Type: {type(my_boolean)}\")\n",
    "\n",
    "# Arithmetic operation\n",
    "result = my_integer + 10.5\n",
    "print(f\"Integer + Float: {result}, Type: {type(result)}\") # Result is a float"
   ]
  },
  {
   "cell_type": "code",
   "execution_count": 1,
   "id": "a45395c7",
   "metadata": {
    "vscode": {
     "languageId": "plaintext"
    }
   },
   "outputs": [
    {
     "name": "stdout",
     "output_type": "stream",
     "text": [
      "List: [10, 20, 'apple', 30.5, 20]\n",
      "Tuple: (1, 'two', 3, 1)\n",
      "Dictionary: {'name': 'Bob', 'age': 25, 'city': 'New York'}\n",
      "Set (duplicates removed and order may vary): {1, 2, 3, 'a', 'b'}\n"
     ]
    }
   ],
   "source": [
    "# Lists (Ordered, Mutable, Allows duplicates)\n",
    "my_list = [10, 20, \"apple\", 30.5, 20]\n",
    "print(f\"List: {my_list}\")\n",
    "\n",
    "# Tuples (Ordered, Immutable, Allows duplicates)\n",
    "my_tuple = (1, \"two\", 3, 1)\n",
    "print(f\"Tuple: {my_tuple}\")\n",
    "\n",
    "# Dictionaries (Unordered/Insertion-Ordered since Python 3.7+, Mutable, Stores key-value pairs)\n",
    "my_dictionary = {\"name\": \"Bob\", \"age\": 25, \"city\": \"New York\"}\n",
    "print(f\"Dictionary: {my_dictionary}\")\n",
    "\n",
    "# Sets (Unordered, Mutable, No duplicates)\n",
    "my_set = {1, 2, 3, 2, \"a\", \"b\"}\n",
    "print(f\"Set (duplicates removed and order may vary): {my_set}\")"
   ]
  },
  {
   "cell_type": "code",
   "execution_count": null,
   "id": "633b8e2b-3d98-48e3-ab4e-048a1bdc02fc",
   "metadata": {},
   "outputs": [],
   "source": [
    "data_sequence = [10, 20, 30, 40, 50, 60]\n",
    "text_string = \"programming\"\n",
    "\n",
    "# Indexing (using square brackets [])\n",
    "print(f\"List Index [1]: {data_sequence[1]}\")      # Output: 20 (second element)\n",
    "print(f\"String Index [-1]: {text_string[-1]}\")  # Output: g (last element)\n",
    "\n",
    "# Slicing (using start:stop:step)\n",
    "print(f\"List Slice [1:4]: {data_sequence[1:4]}\")   # Output: [20, 30, 40] (from index 1 up to, but not including, 4)\n",
    "print(f\"String Slice [3:]: {text_string[3:]}\")   # Output: gramming (from index 3 to the end)\n",
    "print(f\"List Slice [::2]: {data_sequence[::2]}\")  # Output: [10, 30, 50] (every second element)"
   ]
  },
  {
   "cell_type": "code",
   "execution_count": null,
   "id": "620e2f58-01f8-4bb8-b7b4-339ec100805e",
   "metadata": {},
   "outputs": [],
   "source": [
    "list_a = [1, 2]\n",
    "list_b = [3, 4]\n",
    "concatenated_list = list_a + list_b\n",
    "print(f\"Concatenated List: {concatenated_list}\") # Output: [1, 2, 3, 4]\n",
    "\n",
    "tuple_a = (5, 6)\n",
    "tuple_b = (7, 8)\n",
    "concatenated_tuple = tuple_a + tuple_b\n",
    "print(f\"Concatenated Tuple: {concatenated_tuple}\") # Output: (5, 6, 7, 8)\n",
    "\n",
    "string_a = \"Python\"\n",
    "string_b = \" is fun\"\n",
    "concatenated_string = string_a + string_b\n",
    "print(f\"Concatenated String: {concatenated_string}\") # Output: Python is fun"
   ]
  },
  {
   "cell_type": "code",
   "execution_count": null,
   "id": "35f445f6-7cb1-49fd-a956-06e5b424028a",
   "metadata": {},
   "outputs": [],
   "source": [
    "check_list = [\"apple\", \"banana\", \"cherry\"]\n",
    "check_dict = {\"name\": \"Charlie\", \"age\": 40}\n",
    "check_set = {100, 200, 300}\n",
    "\n",
    "print(f\"'banana' in list: {'banana' in check_list}\")  # Output: True\n",
    "print(f\"'age' in dictionary keys: {'age' in check_dict}\")  # Output: True (checks keys by default)\n",
    "print(f\"40 in dictionary values: {40 in check_dict.values()}\") # Output: True (explicitly checks values)\n",
    "print(f\"200 in set: {200 in check_set}\") # Output: True"
   ]
  },
  {
   "cell_type": "code",
   "execution_count": 2,
   "id": "dd77bc78-3d72-47cd-ab44-8788b7b591be",
   "metadata": {},
   "outputs": [
    {
     "name": "stdout",
     "output_type": "stream",
     "text": [
      "Original List ID (before change): 139877545133376\n",
      "Modified List: [99, 2, 3, 4]\n",
      "Modified List ID (after change): 139877545133376\n",
      "Original Dictionary: {'name': 'Eve', 'job': 'Engineer'}\n",
      "Updated Dictionary: {'name': 'Eve', 'job': 'Senior Engineer', 'is_employed': True}\n",
      "Original String ID (before change): 139878029139376\n",
      "New String: hello world\n",
      "New String ID (after 'change'): 139877555333552\n"
     ]
    }
   ],
   "source": [
    "# --- Mutable Type: List ---\n",
    "my_mutable_list = [1, 2, 3]\n",
    "print(f\"Original List ID (before change): {id(my_mutable_list)}\")\n",
    "\n",
    "# In-place modification (Mutating the object)\n",
    "my_mutable_list.append(4)\n",
    "my_mutable_list[0] = 99\n",
    "\n",
    "print(f\"Modified List: {my_mutable_list}\")\n",
    "print(f\"Modified List ID (after change): {id(my_mutable_list)}\")\n",
    "# The ID is the same, proving it was modified in place.\n",
    "\n",
    "# --- Mutable Type: Dictionary Update ---\n",
    "person_data = {\"name\": \"Eve\", \"job\": \"Engineer\"}\n",
    "print(f\"Original Dictionary: {person_data}\")\n",
    "\n",
    "# Updating a value\n",
    "person_data[\"job\"] = \"Senior Engineer\"\n",
    "# Adding a new key-value pair\n",
    "person_data[\"is_employed\"] = True\n",
    "\n",
    "print(f\"Updated Dictionary: {person_data}\")\n",
    "\n",
    "# --- Immutable Type: String ---\n",
    "my_immutable_string = \"hello\"\n",
    "print(f\"Original String ID (before change): {id(my_immutable_string)}\")\n",
    "\n",
    "# 'Modification' (actually creates a new string)\n",
    "my_immutable_string = my_immutable_string + \" world\"\n",
    "\n",
    "print(f\"New String: {my_immutable_string}\")\n",
    "print(f\"New String ID (after 'change'): {id(my_immutable_string)}\")\n",
    "# The ID is different, proving a new string object was created.\n",
    "\n",
    "# --- Immutable Type: Tuple Attempted Modification ---\n",
    "my_tuple_ex = (10, 20, 30)\n",
    "# my_tuple_ex[0] = 5  # This line would raise a TypeError: 'tuple' object does not support item assignment"
   ]
  },
  {
   "cell_type": "code",
   "execution_count": null,
   "id": "ab34b2cc-2083-4cd6-bf48-a4459128edd6",
   "metadata": {},
   "outputs": [],
   "source": []
  }
 ],
 "metadata": {
  "kernelspec": {
   "display_name": "Python 3 (ipykernel)",
   "language": "python",
   "name": "python3"
  },
  "language_info": {
   "codemirror_mode": {
    "name": "ipython",
    "version": 3
   },
   "file_extension": ".py",
   "mimetype": "text/x-python",
   "name": "python",
   "nbconvert_exporter": "python",
   "pygments_lexer": "ipython3",
   "version": "3.10.12"
  }
 },
 "nbformat": 4,
 "nbformat_minor": 5
}
